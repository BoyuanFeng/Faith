{
 "cells": [
  {
   "cell_type": "code",
   "execution_count": 1,
   "metadata": {},
   "outputs": [],
   "source": [
    "import logging\n",
    "import sys\n",
    "\n",
    "import numpy as np\n",
    "import tvm\n",
    "from tvm import te\n",
    "import tvm.testing\n",
    "\n",
    "# the module is called `autotvm`\n",
    "from tvm import autotvm"
   ]
  },
  {
   "cell_type": "code",
   "execution_count": 2,
   "metadata": {},
   "outputs": [],
   "source": [
    "def matmul_basic(N, L, M, dtype):\n",
    "\n",
    "    A = te.placeholder((N, L), name=\"A\", dtype=dtype)\n",
    "    B = te.placeholder((L, M), name=\"B\", dtype=dtype)\n",
    "\n",
    "    k = te.reduce_axis((0, L), name=\"k\")\n",
    "    C = te.compute((N, M), lambda i, j: te.sum(A[i, k] * B[k, j], axis=k), name=\"C\")\n",
    "    s = te.create_schedule(C.op)\n",
    "\n",
    "    # schedule\n",
    "    y, x = s[C].op.axis\n",
    "    k = s[C].op.reduce_axis[0]\n",
    "\n",
    "    yo, yi = s[C].split(y, 8)\n",
    "    xo, xi = s[C].split(x, 8)\n",
    "\n",
    "    s[C].reorder(yo, xo, k, yi, xi)\n",
    "\n",
    "    return s, [A, B, C]"
   ]
  },
  {
   "cell_type": "code",
   "execution_count": 5,
   "metadata": {},
   "outputs": [],
   "source": [
    "# Matmul V1: List candidate values\n",
    "@autotvm.template(\"matmul_v1\")  # 1. use a decorator\n",
    "def matmul_v1(N, L, M, dtype):\n",
    "    A = te.placeholder((N, L), name=\"A\", dtype=dtype)\n",
    "    B = te.placeholder((L, M), name=\"B\", dtype=dtype)\n",
    "\n",
    "    k = te.reduce_axis((0, L), name=\"k\")\n",
    "    C = te.compute((N, M), lambda i, j: te.sum(A[i, k] * B[k, j], axis=k), name=\"C\")\n",
    "    s = te.create_schedule(C.op)\n",
    "\n",
    "    # schedule\n",
    "    y, x = s[C].op.axis\n",
    "    k = s[C].op.reduce_axis[0]\n",
    "\n",
    "    # 2. get the config object\n",
    "    cfg = autotvm.get_config()\n",
    "\n",
    "    # 3. define search space\n",
    "    cfg.define_knob(\"tile_y\", [1, 2, 4, 8, 16])\n",
    "    cfg.define_knob(\"tile_x\", [1, 2, 4, 8, 16])\n",
    "\n",
    "    # 4. schedule according to config\n",
    "    yo, yi = s[C].split(y, cfg[\"tile_y\"].val)\n",
    "    xo, xi = s[C].split(x, cfg[\"tile_x\"].val)\n",
    "\n",
    "    s[C].reorder(yo, xo, k, yi, xi)\n",
    "\n",
    "    return s, [A, B, C]"
   ]
  },
  {
   "cell_type": "code",
   "execution_count": 6,
   "metadata": {},
   "outputs": [],
   "source": [
    "@autotvm.template(\"matmul\")\n",
    "def matmul(N, L, M, dtype):\n",
    "    A = te.placeholder((N, L), name=\"A\", dtype=dtype)\n",
    "    B = te.placeholder((L, M), name=\"B\", dtype=dtype)\n",
    "\n",
    "    k = te.reduce_axis((0, L), name=\"k\")\n",
    "    C = te.compute((N, M), lambda i, j: te.sum(A[i, k] * B[k, j], axis=k), name=\"C\")\n",
    "    s = te.create_schedule(C.op)\n",
    "\n",
    "    # schedule\n",
    "    y, x = s[C].op.axis\n",
    "    k = s[C].op.reduce_axis[0]\n",
    "\n",
    "    ##### define space begin #####\n",
    "    cfg = autotvm.get_config()\n",
    "    cfg.define_split(\"tile_y\", y, num_outputs=2)\n",
    "    cfg.define_split(\"tile_x\", x, num_outputs=2)\n",
    "    ##### define space end #####\n",
    "\n",
    "    # schedule according to config\n",
    "    yo, yi = cfg[\"tile_y\"].apply(s, C, y)\n",
    "    xo, xi = cfg[\"tile_x\"].apply(s, C, x)\n",
    "\n",
    "    s[C].reorder(yo, xo, k, yi, xi)\n",
    "\n",
    "    return s, [A, B, C]"
   ]
  },
  {
   "cell_type": "code",
   "execution_count": 17,
   "metadata": {},
   "outputs": [
    {
     "name": "stdout",
     "output_type": "stream",
     "text": [
      "ConfigSpace (len=121, space_map=\n",
      "   0 tile_y: Split(policy=factors, product=1024, num_outputs=2) len=11\n",
      "   1 tile_x: Split(policy=factors, product=1024, num_outputs=2) len=11\n",
      ")\n"
     ]
    }
   ],
   "source": [
    "N, L, M = 1024, 1024, 1024\n",
    "task = autotvm.task.create(\"matmul\", args=(N, L, M, \"float32\"), target=\"llvm\")\n",
    "print(task.config_space)"
   ]
  },
  {
   "cell_type": "code",
   "execution_count": 18,
   "metadata": {},
   "outputs": [],
   "source": [
    "# logging config (for printing tuning log to the screen)\n",
    "logging.getLogger(\"autotvm\").setLevel(logging.DEBUG)\n",
    "logging.getLogger(\"autotvm\").addHandler(logging.StreamHandler(sys.stdout))"
   ]
  },
  {
   "cell_type": "code",
   "execution_count": 19,
   "metadata": {},
   "outputs": [
    {
     "name": "stdout",
     "output_type": "stream",
     "text": [
      "Get devices for measurement successfully!\n",
      "Get devices for measurement successfully!\n",
      "Get devices for measurement successfully!\n",
      "No: 1\tGFLOPS: 0.00/0.00\tresult: MeasureResult(costs=(RuntimeError('Traceback (most recent call last):\\n  75: 0x00005629cda2be92\\n        at ../sysdeps/x86_64/elf/start.S:103\\n  74: __libc_start_main\\n  73: Py_BytesMain\\n        at /tmp/build/80754af9/python_1599203911753/work/Modules/main.c:1137\\n  72: Py_RunMain\\n        at /tmp/build/80754af9/python_1599203911753/work/Modules/main.c:691\\n  71: pymain_run_python\\n        at /tmp/build/80754af9/python_1599203911753/work/Modules/main.c:606\\n  70: pymain_run_module\\n        at /tmp/build/80754af9/python_1599203911753/work/Modules/main.c:308\\n  69: PyVectorcall_Call\\n        at /tmp/build/80754af9/python_1599203911753/work/Objects/call.c:199\\n  68: _PyFunction_Vectorcall\\n        at /tmp/build/80754af9/python_1599203911753/work/Objects/call.c:435\\n  67: _PyEval_EvalCodeWithName\\n        at /tmp/build/80754af9/python_1599203911753/work/Python/ceval.c:4298\\n  66: _PyEval_EvalFrameDefault\\n        at /tmp/build/80754af9/python_1599203911753/work/Python/ceval.c:3500\\n  65: call_function\\n        at /tmp/build/80754af9/python_1599203911753/work/Python/c'),), error_no=MeasureErrorNo.RUNTIME_DEVICE, all_cost=10.239114761352539, timestamp=1636498965.5753455)\t[('tile_y', [-1, 1]), ('tile_x', [-1, 2])],None,11\n",
      "No: 1\tGFLOPS: 0.00/0.00\tresult: MeasureResult(costs=(RuntimeError('Traceback (most recent call last):\\n  75: 0x00005629cda2be92\\n        at ../sysdeps/x86_64/elf/start.S:103\\n  74: __libc_start_main\\n  73: Py_BytesMain\\n        at /tmp/build/80754af9/python_1599203911753/work/Modules/main.c:1137\\n  72: Py_RunMain\\n        at /tmp/build/80754af9/python_1599203911753/work/Modules/main.c:691\\n  71: pymain_run_python\\n        at /tmp/build/80754af9/python_1599203911753/work/Modules/main.c:606\\n  70: pymain_run_module\\n        at /tmp/build/80754af9/python_1599203911753/work/Modules/main.c:308\\n  69: PyVectorcall_Call\\n        at /tmp/build/80754af9/python_1599203911753/work/Objects/call.c:199\\n  68: _PyFunction_Vectorcall\\n        at /tmp/build/80754af9/python_1599203911753/work/Objects/call.c:435\\n  67: _PyEval_EvalCodeWithName\\n        at /tmp/build/80754af9/python_1599203911753/work/Python/ceval.c:4298\\n  66: _PyEval_EvalFrameDefault\\n        at /tmp/build/80754af9/python_1599203911753/work/Python/ceval.c:3500\\n  65: call_function\\n        at /tmp/build/80754af9/python_1599203911753/work/Python/c'),), error_no=MeasureErrorNo.RUNTIME_DEVICE, all_cost=10.239114761352539, timestamp=1636498965.5753455)\t[('tile_y', [-1, 1]), ('tile_x', [-1, 2])],None,11\n",
      "No: 1\tGFLOPS: 0.00/0.00\tresult: MeasureResult(costs=(RuntimeError('Traceback (most recent call last):\\n  75: 0x00005629cda2be92\\n        at ../sysdeps/x86_64/elf/start.S:103\\n  74: __libc_start_main\\n  73: Py_BytesMain\\n        at /tmp/build/80754af9/python_1599203911753/work/Modules/main.c:1137\\n  72: Py_RunMain\\n        at /tmp/build/80754af9/python_1599203911753/work/Modules/main.c:691\\n  71: pymain_run_python\\n        at /tmp/build/80754af9/python_1599203911753/work/Modules/main.c:606\\n  70: pymain_run_module\\n        at /tmp/build/80754af9/python_1599203911753/work/Modules/main.c:308\\n  69: PyVectorcall_Call\\n        at /tmp/build/80754af9/python_1599203911753/work/Objects/call.c:199\\n  68: _PyFunction_Vectorcall\\n        at /tmp/build/80754af9/python_1599203911753/work/Objects/call.c:435\\n  67: _PyEval_EvalCodeWithName\\n        at /tmp/build/80754af9/python_1599203911753/work/Python/ceval.c:4298\\n  66: _PyEval_EvalFrameDefault\\n        at /tmp/build/80754af9/python_1599203911753/work/Python/ceval.c:3500\\n  65: call_function\\n        at /tmp/build/80754af9/python_1599203911753/work/Python/c'),), error_no=MeasureErrorNo.RUNTIME_DEVICE, all_cost=10.239114761352539, timestamp=1636498965.5753455)\t[('tile_y', [-1, 1]), ('tile_x', [-1, 2])],None,11\n",
      "No: 2\tGFLOPS: 0.00/0.00\tresult: MeasureResult(costs=(RuntimeError('Traceback (most recent call last):\\n  75: 0x00005629cda2be92\\n        at ../sysdeps/x86_64/elf/start.S:103\\n  74: __libc_start_main\\n  73: Py_BytesMain\\n        at /tmp/build/80754af9/python_1599203911753/work/Modules/main.c:1137\\n  72: Py_RunMain\\n        at /tmp/build/80754af9/python_1599203911753/work/Modules/main.c:691\\n  71: pymain_run_python\\n        at /tmp/build/80754af9/python_1599203911753/work/Modules/main.c:606\\n  70: pymain_run_module\\n        at /tmp/build/80754af9/python_1599203911753/work/Modules/main.c:308\\n  69: PyVectorcall_Call\\n        at /tmp/build/80754af9/python_1599203911753/work/Objects/call.c:199\\n  68: _PyFunction_Vectorcall\\n        at /tmp/build/80754af9/python_1599203911753/work/Objects/call.c:435\\n  67: _PyEval_EvalCodeWithName\\n        at /tmp/build/80754af9/python_1599203911753/work/Python/ceval.c:4298\\n  66: _PyEval_EvalFrameDefault\\n        at /tmp/build/80754af9/python_1599203911753/work/Python/ceval.c:3500\\n  65: call_function\\n        at /tmp/build/80754af9/python_1599203911753/work/Python/c'),), error_no=MeasureErrorNo.RUNTIME_DEVICE, all_cost=10.118709087371826, timestamp=1636498975.731142)\t[('tile_y', [-1, 32]), ('tile_x', [-1, 2])],None,16\n",
      "No: 2\tGFLOPS: 0.00/0.00\tresult: MeasureResult(costs=(RuntimeError('Traceback (most recent call last):\\n  75: 0x00005629cda2be92\\n        at ../sysdeps/x86_64/elf/start.S:103\\n  74: __libc_start_main\\n  73: Py_BytesMain\\n        at /tmp/build/80754af9/python_1599203911753/work/Modules/main.c:1137\\n  72: Py_RunMain\\n        at /tmp/build/80754af9/python_1599203911753/work/Modules/main.c:691\\n  71: pymain_run_python\\n        at /tmp/build/80754af9/python_1599203911753/work/Modules/main.c:606\\n  70: pymain_run_module\\n        at /tmp/build/80754af9/python_1599203911753/work/Modules/main.c:308\\n  69: PyVectorcall_Call\\n        at /tmp/build/80754af9/python_1599203911753/work/Objects/call.c:199\\n  68: _PyFunction_Vectorcall\\n        at /tmp/build/80754af9/python_1599203911753/work/Objects/call.c:435\\n  67: _PyEval_EvalCodeWithName\\n        at /tmp/build/80754af9/python_1599203911753/work/Python/ceval.c:4298\\n  66: _PyEval_EvalFrameDefault\\n        at /tmp/build/80754af9/python_1599203911753/work/Python/ceval.c:3500\\n  65: call_function\\n        at /tmp/build/80754af9/python_1599203911753/work/Python/c'),), error_no=MeasureErrorNo.RUNTIME_DEVICE, all_cost=10.118709087371826, timestamp=1636498975.731142)\t[('tile_y', [-1, 32]), ('tile_x', [-1, 2])],None,16\n",
      "No: 2\tGFLOPS: 0.00/0.00\tresult: MeasureResult(costs=(RuntimeError('Traceback (most recent call last):\\n  75: 0x00005629cda2be92\\n        at ../sysdeps/x86_64/elf/start.S:103\\n  74: __libc_start_main\\n  73: Py_BytesMain\\n        at /tmp/build/80754af9/python_1599203911753/work/Modules/main.c:1137\\n  72: Py_RunMain\\n        at /tmp/build/80754af9/python_1599203911753/work/Modules/main.c:691\\n  71: pymain_run_python\\n        at /tmp/build/80754af9/python_1599203911753/work/Modules/main.c:606\\n  70: pymain_run_module\\n        at /tmp/build/80754af9/python_1599203911753/work/Modules/main.c:308\\n  69: PyVectorcall_Call\\n        at /tmp/build/80754af9/python_1599203911753/work/Objects/call.c:199\\n  68: _PyFunction_Vectorcall\\n        at /tmp/build/80754af9/python_1599203911753/work/Objects/call.c:435\\n  67: _PyEval_EvalCodeWithName\\n        at /tmp/build/80754af9/python_1599203911753/work/Python/ceval.c:4298\\n  66: _PyEval_EvalFrameDefault\\n        at /tmp/build/80754af9/python_1599203911753/work/Python/ceval.c:3500\\n  65: call_function\\n        at /tmp/build/80754af9/python_1599203911753/work/Python/c'),), error_no=MeasureErrorNo.RUNTIME_DEVICE, all_cost=10.118709087371826, timestamp=1636498975.731142)\t[('tile_y', [-1, 32]), ('tile_x', [-1, 2])],None,16\n",
      "No: 3\tGFLOPS: 12.98/12.98\tresult: MeasureResult(costs=(0.165448624,), error_no=MeasureErrorNo.NO_ERROR, all_cost=2.951650619506836, timestamp=1636498978.6721125)\t[('tile_y', [-1, 32]), ('tile_x', [-1, 128])],None,82\n",
      "No: 3\tGFLOPS: 12.98/12.98\tresult: MeasureResult(costs=(0.165448624,), error_no=MeasureErrorNo.NO_ERROR, all_cost=2.951650619506836, timestamp=1636498978.6721125)\t[('tile_y', [-1, 32]), ('tile_x', [-1, 128])],None,82\n",
      "No: 3\tGFLOPS: 12.98/12.98\tresult: MeasureResult(costs=(0.165448624,), error_no=MeasureErrorNo.NO_ERROR, all_cost=2.951650619506836, timestamp=1636498978.6721125)\t[('tile_y', [-1, 32]), ('tile_x', [-1, 128])],None,82\n",
      "No: 4\tGFLOPS: 0.00/12.98\tresult: MeasureResult(costs=(RuntimeError('Traceback (most recent call last):\\n  75: 0x00005629cda2be92\\n        at ../sysdeps/x86_64/elf/start.S:103\\n  74: __libc_start_main\\n  73: Py_BytesMain\\n        at /tmp/build/80754af9/python_1599203911753/work/Modules/main.c:1137\\n  72: Py_RunMain\\n        at /tmp/build/80754af9/python_1599203911753/work/Modules/main.c:691\\n  71: pymain_run_python\\n        at /tmp/build/80754af9/python_1599203911753/work/Modules/main.c:606\\n  70: pymain_run_module\\n        at /tmp/build/80754af9/python_1599203911753/work/Modules/main.c:308\\n  69: PyVectorcall_Call\\n        at /tmp/build/80754af9/python_1599203911753/work/Objects/call.c:199\\n  68: _PyFunction_Vectorcall\\n        at /tmp/build/80754af9/python_1599203911753/work/Objects/call.c:435\\n  67: _PyEval_EvalCodeWithName\\n        at /tmp/build/80754af9/python_1599203911753/work/Python/ceval.c:4298\\n  66: _PyEval_EvalFrameDefault\\n        at /tmp/build/80754af9/python_1599203911753/work/Python/ceval.c:3500\\n  65: call_function\\n        at /tmp/build/80754af9/python_1599203911753/work/Python/c'),), error_no=MeasureErrorNo.RUNTIME_DEVICE, all_cost=10.189197540283203, timestamp=1636498988.8614383)\t[('tile_y', [-1, 8]), ('tile_x', [-1, 8])],None,36\n",
      "No: 4\tGFLOPS: 0.00/12.98\tresult: MeasureResult(costs=(RuntimeError('Traceback (most recent call last):\\n  75: 0x00005629cda2be92\\n        at ../sysdeps/x86_64/elf/start.S:103\\n  74: __libc_start_main\\n  73: Py_BytesMain\\n        at /tmp/build/80754af9/python_1599203911753/work/Modules/main.c:1137\\n  72: Py_RunMain\\n        at /tmp/build/80754af9/python_1599203911753/work/Modules/main.c:691\\n  71: pymain_run_python\\n        at /tmp/build/80754af9/python_1599203911753/work/Modules/main.c:606\\n  70: pymain_run_module\\n        at /tmp/build/80754af9/python_1599203911753/work/Modules/main.c:308\\n  69: PyVectorcall_Call\\n        at /tmp/build/80754af9/python_1599203911753/work/Objects/call.c:199\\n  68: _PyFunction_Vectorcall\\n        at /tmp/build/80754af9/python_1599203911753/work/Objects/call.c:435\\n  67: _PyEval_EvalCodeWithName\\n        at /tmp/build/80754af9/python_1599203911753/work/Python/ceval.c:4298\\n  66: _PyEval_EvalFrameDefault\\n        at /tmp/build/80754af9/python_1599203911753/work/Python/ceval.c:3500\\n  65: call_function\\n        at /tmp/build/80754af9/python_1599203911753/work/Python/c'),), error_no=MeasureErrorNo.RUNTIME_DEVICE, all_cost=10.189197540283203, timestamp=1636498988.8614383)\t[('tile_y', [-1, 8]), ('tile_x', [-1, 8])],None,36\n",
      "No: 4\tGFLOPS: 0.00/12.98\tresult: MeasureResult(costs=(RuntimeError('Traceback (most recent call last):\\n  75: 0x00005629cda2be92\\n        at ../sysdeps/x86_64/elf/start.S:103\\n  74: __libc_start_main\\n  73: Py_BytesMain\\n        at /tmp/build/80754af9/python_1599203911753/work/Modules/main.c:1137\\n  72: Py_RunMain\\n        at /tmp/build/80754af9/python_1599203911753/work/Modules/main.c:691\\n  71: pymain_run_python\\n        at /tmp/build/80754af9/python_1599203911753/work/Modules/main.c:606\\n  70: pymain_run_module\\n        at /tmp/build/80754af9/python_1599203911753/work/Modules/main.c:308\\n  69: PyVectorcall_Call\\n        at /tmp/build/80754af9/python_1599203911753/work/Objects/call.c:199\\n  68: _PyFunction_Vectorcall\\n        at /tmp/build/80754af9/python_1599203911753/work/Objects/call.c:435\\n  67: _PyEval_EvalCodeWithName\\n        at /tmp/build/80754af9/python_1599203911753/work/Python/ceval.c:4298\\n  66: _PyEval_EvalFrameDefault\\n        at /tmp/build/80754af9/python_1599203911753/work/Python/ceval.c:3500\\n  65: call_function\\n        at /tmp/build/80754af9/python_1599203911753/work/Python/c'),), error_no=MeasureErrorNo.RUNTIME_DEVICE, all_cost=10.189197540283203, timestamp=1636498988.8614383)\t[('tile_y', [-1, 8]), ('tile_x', [-1, 8])],None,36\n",
      "No: 5\tGFLOPS: 10.75/12.98\tresult: MeasureResult(costs=(0.19978289500000002,), error_no=MeasureErrorNo.NO_ERROR, all_cost=3.4638190269470215, timestamp=1636498992.3673146)\t[('tile_y', [-1, 2]), ('tile_x', [-1, 512])],None,100\n",
      "No: 5\tGFLOPS: 10.75/12.98\tresult: MeasureResult(costs=(0.19978289500000002,), error_no=MeasureErrorNo.NO_ERROR, all_cost=3.4638190269470215, timestamp=1636498992.3673146)\t[('tile_y', [-1, 2]), ('tile_x', [-1, 512])],None,100\n",
      "No: 5\tGFLOPS: 10.75/12.98\tresult: MeasureResult(costs=(0.19978289500000002,), error_no=MeasureErrorNo.NO_ERROR, all_cost=3.4638190269470215, timestamp=1636498992.3673146)\t[('tile_y', [-1, 2]), ('tile_x', [-1, 512])],None,100\n",
      "No: 6\tGFLOPS: 0.00/12.98\tresult: MeasureResult(costs=(RuntimeError('Traceback (most recent call last):\\n  75: 0x00005629cda2be92\\n        at ../sysdeps/x86_64/elf/start.S:103\\n  74: __libc_start_main\\n  73: Py_BytesMain\\n        at /tmp/build/80754af9/python_1599203911753/work/Modules/main.c:1137\\n  72: Py_RunMain\\n        at /tmp/build/80754af9/python_1599203911753/work/Modules/main.c:691\\n  71: pymain_run_python\\n        at /tmp/build/80754af9/python_1599203911753/work/Modules/main.c:606\\n  70: pymain_run_module\\n        at /tmp/build/80754af9/python_1599203911753/work/Modules/main.c:308\\n  69: PyVectorcall_Call\\n        at /tmp/build/80754af9/python_1599203911753/work/Objects/call.c:199\\n  68: _PyFunction_Vectorcall\\n        at /tmp/build/80754af9/python_1599203911753/work/Objects/call.c:435\\n  67: _PyEval_EvalCodeWithName\\n        at /tmp/build/80754af9/python_1599203911753/work/Python/ceval.c:4298\\n  66: _PyEval_EvalFrameDefault\\n        at /tmp/build/80754af9/python_1599203911753/work/Python/ceval.c:3500\\n  65: call_function\\n        at /tmp/build/80754af9/python_1599203911753/work/Python/c'),), error_no=MeasureErrorNo.RUNTIME_DEVICE, all_cost=10.094547271728516, timestamp=1636499002.516455)\t[('tile_y', [-1, 512]), ('tile_x', [-1, 1])],None,9\n",
      "No: 6\tGFLOPS: 0.00/12.98\tresult: MeasureResult(costs=(RuntimeError('Traceback (most recent call last):\\n  75: 0x00005629cda2be92\\n        at ../sysdeps/x86_64/elf/start.S:103\\n  74: __libc_start_main\\n  73: Py_BytesMain\\n        at /tmp/build/80754af9/python_1599203911753/work/Modules/main.c:1137\\n  72: Py_RunMain\\n        at /tmp/build/80754af9/python_1599203911753/work/Modules/main.c:691\\n  71: pymain_run_python\\n        at /tmp/build/80754af9/python_1599203911753/work/Modules/main.c:606\\n  70: pymain_run_module\\n        at /tmp/build/80754af9/python_1599203911753/work/Modules/main.c:308\\n  69: PyVectorcall_Call\\n        at /tmp/build/80754af9/python_1599203911753/work/Objects/call.c:199\\n  68: _PyFunction_Vectorcall\\n        at /tmp/build/80754af9/python_1599203911753/work/Objects/call.c:435\\n  67: _PyEval_EvalCodeWithName\\n        at /tmp/build/80754af9/python_1599203911753/work/Python/ceval.c:4298\\n  66: _PyEval_EvalFrameDefault\\n        at /tmp/build/80754af9/python_1599203911753/work/Python/ceval.c:3500\\n  65: call_function\\n        at /tmp/build/80754af9/python_1599203911753/work/Python/c'),), error_no=MeasureErrorNo.RUNTIME_DEVICE, all_cost=10.094547271728516, timestamp=1636499002.516455)\t[('tile_y', [-1, 512]), ('tile_x', [-1, 1])],None,9\n",
      "No: 6\tGFLOPS: 0.00/12.98\tresult: MeasureResult(costs=(RuntimeError('Traceback (most recent call last):\\n  75: 0x00005629cda2be92\\n        at ../sysdeps/x86_64/elf/start.S:103\\n  74: __libc_start_main\\n  73: Py_BytesMain\\n        at /tmp/build/80754af9/python_1599203911753/work/Modules/main.c:1137\\n  72: Py_RunMain\\n        at /tmp/build/80754af9/python_1599203911753/work/Modules/main.c:691\\n  71: pymain_run_python\\n        at /tmp/build/80754af9/python_1599203911753/work/Modules/main.c:606\\n  70: pymain_run_module\\n        at /tmp/build/80754af9/python_1599203911753/work/Modules/main.c:308\\n  69: PyVectorcall_Call\\n        at /tmp/build/80754af9/python_1599203911753/work/Objects/call.c:199\\n  68: _PyFunction_Vectorcall\\n        at /tmp/build/80754af9/python_1599203911753/work/Objects/call.c:435\\n  67: _PyEval_EvalCodeWithName\\n        at /tmp/build/80754af9/python_1599203911753/work/Python/ceval.c:4298\\n  66: _PyEval_EvalFrameDefault\\n        at /tmp/build/80754af9/python_1599203911753/work/Python/ceval.c:3500\\n  65: call_function\\n        at /tmp/build/80754af9/python_1599203911753/work/Python/c'),), error_no=MeasureErrorNo.RUNTIME_DEVICE, all_cost=10.094547271728516, timestamp=1636499002.516455)\t[('tile_y', [-1, 512]), ('tile_x', [-1, 1])],None,9\n",
      "No: 7\tGFLOPS: 8.08/12.98\tresult: MeasureResult(costs=(0.26591506460000003,), error_no=MeasureErrorNo.NO_ERROR, all_cost=4.549122095108032, timestamp=1636499007.0711439)\t[('tile_y', [-1, 4]), ('tile_x', [-1, 64])],None,68\n",
      "No: 7\tGFLOPS: 8.08/12.98\tresult: MeasureResult(costs=(0.26591506460000003,), error_no=MeasureErrorNo.NO_ERROR, all_cost=4.549122095108032, timestamp=1636499007.0711439)\t[('tile_y', [-1, 4]), ('tile_x', [-1, 64])],None,68\n",
      "No: 7\tGFLOPS: 8.08/12.98\tresult: MeasureResult(costs=(0.26591506460000003,), error_no=MeasureErrorNo.NO_ERROR, all_cost=4.549122095108032, timestamp=1636499007.0711439)\t[('tile_y', [-1, 4]), ('tile_x', [-1, 64])],None,68\n",
      "No: 8\tGFLOPS: 11.80/12.98\tresult: MeasureResult(costs=(0.1820276136,), error_no=MeasureErrorNo.NO_ERROR, all_cost=3.1802637577056885, timestamp=1636499010.281141)\t[('tile_y', [-1, 128]), ('tile_x', [-1, 512])],None,106\n",
      "No: 8\tGFLOPS: 11.80/12.98\tresult: MeasureResult(costs=(0.1820276136,), error_no=MeasureErrorNo.NO_ERROR, all_cost=3.1802637577056885, timestamp=1636499010.281141)\t[('tile_y', [-1, 128]), ('tile_x', [-1, 512])],None,106\n",
      "No: 8\tGFLOPS: 11.80/12.98\tresult: MeasureResult(costs=(0.1820276136,), error_no=MeasureErrorNo.NO_ERROR, all_cost=3.1802637577056885, timestamp=1636499010.281141)\t[('tile_y', [-1, 128]), ('tile_x', [-1, 512])],None,106\n",
      "No: 9\tGFLOPS: 12.09/12.98\tresult: MeasureResult(costs=(0.17755938980000002,), error_no=MeasureErrorNo.NO_ERROR, all_cost=3.1151671409606934, timestamp=1636499013.4135337)\t[('tile_y', [-1, 64]), ('tile_x', [-1, 128])],None,83\n",
      "No: 9\tGFLOPS: 12.09/12.98\tresult: MeasureResult(costs=(0.17755938980000002,), error_no=MeasureErrorNo.NO_ERROR, all_cost=3.1151671409606934, timestamp=1636499013.4135337)\t[('tile_y', [-1, 64]), ('tile_x', [-1, 128])],None,83\n",
      "No: 9\tGFLOPS: 12.09/12.98\tresult: MeasureResult(costs=(0.17755938980000002,), error_no=MeasureErrorNo.NO_ERROR, all_cost=3.1151671409606934, timestamp=1636499013.4135337)\t[('tile_y', [-1, 64]), ('tile_x', [-1, 128])],None,83\n",
      "No: 10\tGFLOPS: 0.00/12.98\tresult: MeasureResult(costs=(RuntimeError('Traceback (most recent call last):\\n  75: 0x00005629cda2be92\\n        at ../sysdeps/x86_64/elf/start.S:103\\n  74: __libc_start_main\\n  73: Py_BytesMain\\n        at /tmp/build/80754af9/python_1599203911753/work/Modules/main.c:1137\\n  72: Py_RunMain\\n        at /tmp/build/80754af9/python_1599203911753/work/Modules/main.c:691\\n  71: pymain_run_python\\n        at /tmp/build/80754af9/python_1599203911753/work/Modules/main.c:606\\n  70: pymain_run_module\\n        at /tmp/build/80754af9/python_1599203911753/work/Modules/main.c:308\\n  69: PyVectorcall_Call\\n        at /tmp/build/80754af9/python_1599203911753/work/Objects/call.c:199\\n  68: _PyFunction_Vectorcall\\n        at /tmp/build/80754af9/python_1599203911753/work/Objects/call.c:435\\n  67: _PyEval_EvalCodeWithName\\n        at /tmp/build/80754af9/python_1599203911753/work/Python/ceval.c:4298\\n  66: _PyEval_EvalFrameDefault\\n        at /tmp/build/80754af9/python_1599203911753/work/Python/ceval.c:3500\\n  65: call_function\\n        at /tmp/build/80754af9/python_1599203911753/work/Python/c'),), error_no=MeasureErrorNo.RUNTIME_DEVICE, all_cost=10.158952236175537, timestamp=1636499023.6060636)\t[('tile_y', [-1, 1]), ('tile_x', [-1, 8])],None,33\n",
      "No: 10\tGFLOPS: 0.00/12.98\tresult: MeasureResult(costs=(RuntimeError('Traceback (most recent call last):\\n  75: 0x00005629cda2be92\\n        at ../sysdeps/x86_64/elf/start.S:103\\n  74: __libc_start_main\\n  73: Py_BytesMain\\n        at /tmp/build/80754af9/python_1599203911753/work/Modules/main.c:1137\\n  72: Py_RunMain\\n        at /tmp/build/80754af9/python_1599203911753/work/Modules/main.c:691\\n  71: pymain_run_python\\n        at /tmp/build/80754af9/python_1599203911753/work/Modules/main.c:606\\n  70: pymain_run_module\\n        at /tmp/build/80754af9/python_1599203911753/work/Modules/main.c:308\\n  69: PyVectorcall_Call\\n        at /tmp/build/80754af9/python_1599203911753/work/Objects/call.c:199\\n  68: _PyFunction_Vectorcall\\n        at /tmp/build/80754af9/python_1599203911753/work/Objects/call.c:435\\n  67: _PyEval_EvalCodeWithName\\n        at /tmp/build/80754af9/python_1599203911753/work/Python/ceval.c:4298\\n  66: _PyEval_EvalFrameDefault\\n        at /tmp/build/80754af9/python_1599203911753/work/Python/ceval.c:3500\\n  65: call_function\\n        at /tmp/build/80754af9/python_1599203911753/work/Python/c'),), error_no=MeasureErrorNo.RUNTIME_DEVICE, all_cost=10.158952236175537, timestamp=1636499023.6060636)\t[('tile_y', [-1, 1]), ('tile_x', [-1, 8])],None,33\n",
      "No: 10\tGFLOPS: 0.00/12.98\tresult: MeasureResult(costs=(RuntimeError('Traceback (most recent call last):\\n  75: 0x00005629cda2be92\\n        at ../sysdeps/x86_64/elf/start.S:103\\n  74: __libc_start_main\\n  73: Py_BytesMain\\n        at /tmp/build/80754af9/python_1599203911753/work/Modules/main.c:1137\\n  72: Py_RunMain\\n        at /tmp/build/80754af9/python_1599203911753/work/Modules/main.c:691\\n  71: pymain_run_python\\n        at /tmp/build/80754af9/python_1599203911753/work/Modules/main.c:606\\n  70: pymain_run_module\\n        at /tmp/build/80754af9/python_1599203911753/work/Modules/main.c:308\\n  69: PyVectorcall_Call\\n        at /tmp/build/80754af9/python_1599203911753/work/Objects/call.c:199\\n  68: _PyFunction_Vectorcall\\n        at /tmp/build/80754af9/python_1599203911753/work/Objects/call.c:435\\n  67: _PyEval_EvalCodeWithName\\n        at /tmp/build/80754af9/python_1599203911753/work/Python/ceval.c:4298\\n  66: _PyEval_EvalFrameDefault\\n        at /tmp/build/80754af9/python_1599203911753/work/Python/ceval.c:3500\\n  65: call_function\\n        at /tmp/build/80754af9/python_1599203911753/work/Python/c'),), error_no=MeasureErrorNo.RUNTIME_DEVICE, all_cost=10.158952236175537, timestamp=1636499023.6060636)\t[('tile_y', [-1, 1]), ('tile_x', [-1, 8])],None,33\n"
     ]
    }
   ],
   "source": [
    "measure_option = autotvm.measure_option(builder=\"local\", runner=autotvm.LocalRunner(number=5))\n",
    "\n",
    "# Begin tuning with RandomTuner, log records to file `matmul.log`\n",
    "# You can use alternatives like XGBTuner.\n",
    "tuner = autotvm.tuner.RandomTuner(task)\n",
    "tuner.tune(\n",
    "    n_trial=10,\n",
    "    measure_option=measure_option,\n",
    "    callbacks=[autotvm.callback.log_to_file(\"matmul.log\")],\n",
    ")"
   ]
  },
  {
   "cell_type": "code",
   "execution_count": 20,
   "metadata": {},
   "outputs": [
    {
     "name": "stdout",
     "output_type": "stream",
     "text": [
      "Finish loading 30 records\n",
      "Finish loading 30 records\n",
      "Finish loading 30 records\n"
     ]
    }
   ],
   "source": [
    "# apply history best from log file\n",
    "with autotvm.apply_history_best(\"matmul.log\"):\n",
    "    with tvm.target.Target(\"llvm\"):\n",
    "        s, arg_bufs = matmul(N, L, M, \"float32\")\n",
    "        func = tvm.build(s, arg_bufs)\n",
    "\n",
    "# check correctness\n",
    "a_np = np.random.uniform(size=(N, L)).astype(np.float32)\n",
    "b_np = np.random.uniform(size=(L, M)).astype(np.float32)\n",
    "c_np = a_np.dot(b_np)\n",
    "\n",
    "c_tvm = tvm.nd.empty(c_np.shape)\n",
    "func(tvm.nd.array(a_np), tvm.nd.array(b_np), c_tvm)\n",
    "\n",
    "tvm.testing.assert_allclose(c_np, c_tvm.numpy(), rtol=1e-4)\n"
   ]
  },
  {
   "cell_type": "code",
   "execution_count": 22,
   "metadata": {},
   "outputs": [
    {
     "name": "stdout",
     "output_type": "stream",
     "text": [
      "Execution time of this operator: 166.819 ms\n"
     ]
    }
   ],
   "source": [
    "a_np = np.random.uniform(size=(N, L)).astype(np.float32)\n",
    "b_np = np.random.uniform(size=(L, M)).astype(np.float32)\n",
    "c_np = np.random.uniform(size=(N, M)).astype(np.float32)\n",
    "out_np = a_np.dot(b_np) + c_np\n",
    "\n",
    "dev = tvm.cpu()\n",
    "a_tvm = tvm.nd.array(a_np, device=dev)\n",
    "b_tvm = tvm.nd.array(b_np, device=dev)\n",
    "func(a_tvm, b_tvm, c_tvm)\n",
    "\n",
    "# Evaluate execution time.\n",
    "evaluator = func.time_evaluator(func.entry_name, dev, min_repeat_ms=500)\n",
    "print(\n",
    "    \"Execution time of this operator: %.3f ms\"\n",
    "    % (np.median(evaluator(a_tvm, b_tvm, c_tvm).results) * 1000)\n",
    ")"
   ]
  }
 ],
 "metadata": {
  "interpreter": {
   "hash": "b761d0240ca762903f954933761353d8903f283fea0d68128d1f9b50c03f2f84"
  },
  "kernelspec": {
   "display_name": "Python 3.8.5 64-bit ('tvm-build': conda)",
   "language": "python",
   "name": "python3"
  },
  "language_info": {
   "codemirror_mode": {
    "name": "ipython",
    "version": 3
   },
   "file_extension": ".py",
   "mimetype": "text/x-python",
   "name": "python",
   "nbconvert_exporter": "python",
   "pygments_lexer": "ipython3",
   "version": "3.8.5"
  },
  "orig_nbformat": 4
 },
 "nbformat": 4,
 "nbformat_minor": 2
}
